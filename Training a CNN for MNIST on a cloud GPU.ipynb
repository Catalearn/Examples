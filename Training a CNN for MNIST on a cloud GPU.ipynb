{
 "cells": [
  {
   "cell_type": "markdown",
   "metadata": {},
   "source": [
    "# How to training a CNN for MNIST on a cloud GPU\n",
    "\n",
    "In this notebook, we will train a convolutional neural network on a cloud GPU using the Catalearn module. This saves time for those of us who don't have fast GPUs on our computers."
   ]
  },
  {
   "cell_type": "markdown",
   "metadata": {},
   "source": [
    "## Dependencies\n",
    "\n",
    "#### Normal machine learning dependencies\n",
    "* tensorflow\n",
    "* keras\n",
    "* pandas\n",
    "* matplotlib\n",
    "* numpy\n",
    "\n",
    "#### Catalearn\n",
    "* install with `pip3 install catalearn`"
   ]
  },
  {
   "cell_type": "markdown",
   "metadata": {},
   "source": [
    "### Load the libraries"
   ]
  },
  {
   "cell_type": "code",
   "execution_count": 4,
   "metadata": {},
   "outputs": [
    {
     "name": "stderr",
     "output_type": "stream",
     "text": [
      "Using TensorFlow backend.\n"
     ]
    }
   ],
   "source": [
    "from keras.datasets import mnist\n",
    "from keras.models import load_model\n",
    "import pandas as pd\n",
    "from matplotlib import pyplot as plt\n",
    "import numpy as np\n",
    "% matplotlib inline"
   ]
  },
  {
   "cell_type": "markdown",
   "metadata": {},
   "source": [
    "## Import and login to Catalearn\n",
    "In order to use catalearn, an access key is required. \n",
    "\n",
    "You can register for an access key at [www.catalearn.com](http://catalearn.com).\n",
    "\n",
    "Replace __ACCESS_KEY__ below with your own key."
   ]
  },
  {
   "cell_type": "code",
   "execution_count": 5,
   "metadata": {},
   "outputs": [
    {
     "name": "stdout",
     "output_type": "stream",
     "text": [
      "Login successful\n"
     ]
    }
   ],
   "source": [
    "import catalearn\n",
    "catalearn.login(ACCESS_KEY) # replace with your own key"
   ]
  },
  {
   "cell_type": "markdown",
   "metadata": {},
   "source": [
    "## Load the datasets from keras"
   ]
  },
  {
   "cell_type": "code",
   "execution_count": 6,
   "metadata": {
    "collapsed": true
   },
   "outputs": [],
   "source": [
    "(x_train, y_train), (x_test, y_test) = mnist.load_data()\n",
    "\n",
    "x_train_reshape = x_train.reshape(x_train.shape[0], 28, 28, 1)\n",
    "x_test_reshape = x_test.reshape(x_test.shape[0], 28, 28, 1)\n",
    "\n",
    "y_train_onehot = pd.get_dummies(y_train).as_matrix()\n",
    "y_test_onehot = pd.get_dummies(y_test).as_matrix()"
   ]
  },
  {
   "cell_type": "markdown",
   "metadata": {},
   "source": [
    "## Upload our training and test sets to catalearn\n",
    "After we upload the datasets, we can then import them directly on the GPU. This way we don't need to upload the datasets every time we want to train a model."
   ]
  },
  {
   "cell_type": "code",
   "execution_count": 7,
   "metadata": {},
   "outputs": [
    {
     "name": "stdout",
     "output_type": "stream",
     "text": [
      "Uploading 'x_train'...\n",
      "Successfully uploaded x_train to the cloud\n",
      "Uploading 'x_test'...\n",
      "Successfully uploaded x_test to the cloud\n",
      "Uploading 'y_train'...\n",
      "Successfully uploaded y_train to the cloud\n",
      "Uploading 'y_test'...\n",
      "Successfully uploaded y_test to the cloud\n"
     ]
    }
   ],
   "source": [
    "catalearn.save(x_train_reshape, 'x_train')\n",
    "catalearn.save(x_test_reshape, 'x_test')\n",
    "catalearn.save(y_train_onehot, 'y_train')\n",
    "catalearn.save(y_test_onehot, 'y_test')"
   ]
  },
  {
   "cell_type": "markdown",
   "metadata": {},
   "source": [
    "## Define the function to be run on the GPU\n",
    "\n",
    "* Use the `catalearn.run_on_gpu` decorator to transform a function into a GPU enabled one.\n",
    "* Within the function, we need to import `keras` again to use the GPU accelerated version.\n",
    "* We also import `catalearn` and login again to load the datasets we've just uploaded.\n",
    "* Don't forget to replace __ACCESS_KEY__ with the key you generated from [www.catalearn.com](http://catalearn.com)"
   ]
  },
  {
   "cell_type": "code",
   "execution_count": 11,
   "metadata": {
    "collapsed": true,
    "scrolled": true
   },
   "outputs": [],
   "source": [
    "@catalearn.run_on_gpu\n",
    "def train():\n",
    "\n",
    "    from keras.models import Sequential\n",
    "    from keras.layers import Dense, Activation, Conv2D, Flatten, MaxPooling2D\n",
    "    \n",
    "    import catalearn\n",
    "    catalearn.login(ACCESS_KEY) # replace ACCESS_KEY with the key you generated\n",
    "\n",
    "    x_train = catalearn.load('x_train')\n",
    "    x_test = catalearn.load('x_test')\n",
    "    y_train = catalearn.load('y_train')\n",
    "    y_test = catalearn.load('y_test')\n",
    "\n",
    "    model = Sequential()\n",
    "    model.add(Conv2D(32, (3, 3), input_shape=(28, 28, 1)))\n",
    "    model.add(MaxPooling2D(pool_size=(2, 2)))\n",
    "    model.add(Conv2D(64, (3, 3)))\n",
    "    model.add(Flatten())\n",
    "    model.add(Activation('relu'))\n",
    "    model.add(Dense(units=10))\n",
    "    model.add(Activation('softmax'))\n",
    "\n",
    "    model.compile(loss='categorical_crossentropy', optimizer='Adadelta', metrics=['accuracy'])\n",
    "    model.fit(x_train, y_train, epochs=10, batch_size=32)\n",
    "\n",
    "    loss_and_metrics = model.evaluate(x_test, y_test, batch_size=512)\n",
    "    print(\"\\n\\nTrained model has test accuracy {0}\".format(loss_and_metrics[1]))\n",
    "    \n",
    "    model.save('mnist_model.h5')\n",
    "\n",
    "    return loss_and_metrics"
   ]
  },
  {
   "cell_type": "markdown",
   "metadata": {},
   "source": [
    "## Training the model\n",
    "\n",
    "Run the decorated `train()` function above to train the model\n",
    "* The tuple returned by `train()` will also be returned by the decorated function \n",
    "* Any files written to the current directory will be available in the local current directory\n",
    "\n",
    "The model has 0.999 training accuracy and 0.985 test accuracy, which is pretty good : D"
   ]
  },
  {
   "cell_type": "code",
   "execution_count": 12,
   "metadata": {},
   "outputs": [
    {
     "name": "stderr",
     "output_type": "stream",
     "text": [
      "\r",
      "  0%|          | 0.00/1.19K [00:00<?, ?B/s]"
     ]
    },
    {
     "name": "stdout",
     "output_type": "stream",
     "text": [
      "Uploading data\n"
     ]
    },
    {
     "name": "stderr",
     "output_type": "stream",
     "text": [
      "1.50KB [00:00, 4.54KB/s]                   \n"
     ]
    },
    {
     "name": "stdout",
     "output_type": "stream",
     "text": [
      "Job running:\n",
      "Using TensorFlow backend.\n",
      "Login successful\n",
      "Downloading x_train\n",
      "Successfully downloaded x_train from the cloud\n",
      "Downloading x_test\n",
      "Successfully downloaded x_test from the cloud\n",
      "Downloading y_train\n",
      "Successfully downloaded y_train from the cloud\n",
      "Downloading y_test\n",
      "Successfully downloaded y_test from the cloud\n",
      "Epoch 1/10\n",
      "60000/60000 [==============================] - 20s - loss: 0.5128 - acc: 0.9289    \n",
      "Epoch 2/10\n",
      "60000/60000 [==============================] - 16s - loss: 0.0657 - acc: 0.9821    \n",
      "Epoch 3/10\n",
      "60000/60000 [==============================] - 16s - loss: 0.0415 - acc: 0.9883    \n",
      "Epoch 4/10\n",
      "60000/60000 [==============================] - 16s - loss: 0.0279 - acc: 0.9923    \n",
      "Epoch 5/10\n",
      "60000/60000 [==============================] - 16s - loss: 0.0205 - acc: 0.9946    \n",
      "Epoch 6/10\n",
      "60000/60000 [==============================] - 16s - loss: 0.0147 - acc: 0.9961    8 \n",
      "Epoch 7/10\n",
      "60000/60000 [==============================] - 16s - loss: 0.0111 - acc: 0.9971    - ETA: 3s - loss: 0.0101 - acc: 0. - ETA: 2s - loss: 0.0105 - acc: 0.997 - ETA: 2s - loss: 0.0104 - a\n",
      "Epoch 8/10\n",
      "60000/60000 [==============================] - 16s - loss: 0.0076 - acc: 0.9981    4   - ETA: 15s  - ETA: 12s - loss - ETA: 9s - loss: 0.0061 - acc: 0.99 - ETA: 8s - loss: 0.0059 - acc:  - ETA: 6s - loss: 0.0071 - acc: - ETA: 4s - loss: 0.\n",
      "Epoch 9/10\n",
      "60000/60000 [==============================] - 16s - loss: 0.0057 - acc: 0.9985    \n",
      "Epoch 10/10\n",
      "60000/60000 [==============================] - 16s - loss: 0.0042 - acc: 0.9991    - ET\n",
      "10000/10000 [==============================] - 0s     \n",
      "\n",
      "\n",
      "Trained model has test accuracy 0.9847000009536743\n",
      "Job finished\n",
      "Downloading result\n"
     ]
    },
    {
     "name": "stderr",
     "output_type": "stream",
     "text": [
      "1.11MB [00:09, 119KB/s]                             \n"
     ]
    },
    {
     "name": "stdout",
     "output_type": "stream",
     "text": [
      "Done!\n",
      "New file downloaded: 'mnist_model.h5'\n",
      "3 minutes used, you have 44 minutes of credit remaining\n",
      "validation loss: 0.0808813755274\n",
      "validation accuracy: 0.984700000954\n"
     ]
    }
   ],
   "source": [
    "metrics = train()\n",
    "print('validation loss: %s\\nvalidation accuracy: %s' % tuple(metrics))\n",
    "model = load_model('mnist_model.h5')"
   ]
  },
  {
   "cell_type": "markdown",
   "metadata": {},
   "source": [
    "## Lets look at some predictions\n",
    "Each time you run the cell below a new prediction is shown"
   ]
  },
  {
   "cell_type": "code",
   "execution_count": 23,
   "metadata": {},
   "outputs": [
    {
     "name": "stdout",
     "output_type": "stream",
     "text": [
      "I think this is a 2\n"
     ]
    },
    {
     "data": {
      "image/png": "[encoded data removed]",
      "text/plain": [
       "<matplotlib.figure.Figure at 0x11b9664e0>"
      ]
     },
     "metadata": {},
     "output_type": "display_data"
    }
   ],
   "source": [
    "i = np.random.randint(len(x_test))\n",
    "prediction = np.argmax(model.predict(x_test[i].reshape((1,28,28,1))))\n",
    "\n",
    "print('I think this is a %s' % prediction)\n",
    "plt.imshow(x_test[i])\n",
    "plt.show()"
   ]
  }
 ],
 "metadata": {
  "kernelspec": {
   "display_name": "Python 3",
   "language": "python",
   "name": "python3"
  },
  "language_info": {
   "codemirror_mode": {
    "name": "ipython",
    "version": 3
   },
   "file_extension": ".py",
   "mimetype": "text/x-python",
   "name": "python",
   "nbconvert_exporter": "python",
   "pygments_lexer": "ipython3",
   "version": "3.5.2"
  }
 },
 "nbformat": 4,
 "nbformat_minor": 2
}
